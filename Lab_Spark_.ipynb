{
  "nbformat": 4,
  "nbformat_minor": 0,
  "metadata": {
    "colab": {
      "name": "Lab Spark .ipynb",
      "provenance": []
    },
    "kernelspec": {
      "name": "python3",
      "display_name": "Python 3"
    },
    "language_info": {
      "name": "python"
    }
  },
  "cells": [
    {
      "cell_type": "markdown",
      "source": [
        "Configurando variável com a data e hora inicial"
      ],
      "metadata": {
        "id": "QPQ8-nOLh2q2"
      }
    },
    {
      "cell_type": "code",
      "execution_count": null,
      "metadata": {
        "id": "ja5kt_q5hdBw"
      },
      "outputs": [],
      "source": [
        "from datetime import datetime\n",
        "started = datetime.now()"
      ]
    },
    {
      "cell_type": "markdown",
      "source": [
        "Configurando ambiente spark"
      ],
      "metadata": {
        "id": "NdUfyQO_iDLS"
      }
    },
    {
      "cell_type": "code",
      "source": [
        "%%bash\n",
        "\n",
        "# Instalação java\n",
        "apt-get update && apt-get install openjdk-8-jdk-headless -qq > /dev/null\n",
        "\n",
        "# Instalação PySpark\n",
        "pip install -q pyspark"
      ],
      "metadata": {
        "colab": {
          "base_uri": "https://localhost:8080/"
        },
        "id": "3rBLMeGJhhzU",
        "outputId": "63a8dbc8-037c-4e3e-cbf0-0add141a89a6"
      },
      "execution_count": 1,
      "outputs": [
        {
          "output_type": "stream",
          "name": "stdout",
          "text": [
            "Get:1 http://security.ubuntu.com/ubuntu bionic-security InRelease [88.7 kB]\n",
            "Get:2 https://cloud.r-project.org/bin/linux/ubuntu bionic-cran40/ InRelease [3,626 B]\n",
            "Ign:3 https://developer.download.nvidia.com/compute/machine-learning/repos/ubuntu1804/x86_64  InRelease\n",
            "Get:4 http://ppa.launchpad.net/c2d4u.team/c2d4u4.0+/ubuntu bionic InRelease [15.9 kB]\n",
            "Get:5 https://developer.download.nvidia.com/compute/cuda/repos/ubuntu1804/x86_64  InRelease [1,581 B]\n",
            "Hit:6 https://developer.download.nvidia.com/compute/machine-learning/repos/ubuntu1804/x86_64  Release\n",
            "Hit:7 http://archive.ubuntu.com/ubuntu bionic InRelease\n",
            "Get:8 http://archive.ubuntu.com/ubuntu bionic-updates InRelease [88.7 kB]\n",
            "Hit:9 http://ppa.launchpad.net/cran/libgit2/ubuntu bionic InRelease\n",
            "Hit:10 http://ppa.launchpad.net/deadsnakes/ppa/ubuntu bionic InRelease\n",
            "Get:11 http://archive.ubuntu.com/ubuntu bionic-backports InRelease [74.6 kB]\n",
            "Get:12 http://security.ubuntu.com/ubuntu bionic-security/universe amd64 Packages [1,533 kB]\n",
            "Hit:13 http://ppa.launchpad.net/graphics-drivers/ppa/ubuntu bionic InRelease\n",
            "Get:14 http://security.ubuntu.com/ubuntu bionic-security/main amd64 Packages [2,937 kB]\n",
            "Get:15 https://developer.download.nvidia.com/compute/cuda/repos/ubuntu1804/x86_64  Packages [910 kB]\n",
            "Get:17 http://ppa.launchpad.net/c2d4u.team/c2d4u4.0+/ubuntu bionic/main Sources [2,095 kB]\n",
            "Get:18 http://archive.ubuntu.com/ubuntu bionic-updates/universe amd64 Packages [2,310 kB]\n",
            "Get:19 http://ppa.launchpad.net/c2d4u.team/c2d4u4.0+/ubuntu bionic/main amd64 Packages [1,073 kB]\n",
            "Get:20 http://archive.ubuntu.com/ubuntu bionic-updates/main amd64 Packages [3,369 kB]\n",
            "Fetched 14.5 MB in 6s (2,549 kB/s)\n",
            "Reading package lists...\n"
          ]
        }
      ]
    },
    {
      "cell_type": "code",
      "source": [
        "import os\n",
        "os.environ['JAVA_HOME'] = '/usr/lib/jvm/java-8-openjdk-amd64'\n",
        "\n",
        "from pyspark.sql import SparkSession\n",
        "\n",
        "spark = SparkSession.builder.master(\"local[*]\").getOrCreate()"
      ],
      "metadata": {
        "id": "xutxMyFYinNz"
      },
      "execution_count": 2,
      "outputs": []
    },
    {
      "cell_type": "markdown",
      "source": [
        "Realizando download dos arquivos e salvando-os na camada Transient"
      ],
      "metadata": {
        "id": "GbIfhZa5jC-T"
      }
    },
    {
      "cell_type": "code",
      "source": [
        "#bibliotecas necessárias\n",
        "import zipfile\n",
        "import requests\n",
        "from io import BytesIO\n",
        "import os"
      ],
      "metadata": {
        "id": "kJp2X84qi8iq"
      },
      "execution_count": 3,
      "outputs": []
    },
    {
      "cell_type": "code",
      "source": [
        "#Variáveis gerais\n",
        "link = \"https://download.inep.gov.br/microdados/microdados_enem_2020.zip\"\n",
        "path_transient = \"/content/transient/\"\n",
        "path_raw = \"/content/raw/\"\n",
        "path_trusted = \"/content/trusted/\"\n",
        "path_refined = \"/content/refined/\""
      ],
      "metadata": {
        "id": "QHCCrS5qja-D"
      },
      "execution_count": 5,
      "outputs": []
    },
    {
      "cell_type": "code",
      "source": [
        "#Realizando requisição na url do enem\n",
        "filebytes = BytesIO( requests.get(link, verify=False).content )"
      ],
      "metadata": {
        "colab": {
          "base_uri": "https://localhost:8080/"
        },
        "id": "Pf3RtA_ejmXa",
        "outputId": "f707b48e-fea2-41fa-8470-0303defb0ce2"
      },
      "execution_count": null,
      "outputs": [
        {
          "output_type": "stream",
          "name": "stderr",
          "text": [
            "/usr/local/lib/python3.7/dist-packages/urllib3/connectionpool.py:847: InsecureRequestWarning: Unverified HTTPS request is being made. Adding certificate verification is strongly advised. See: https://urllib3.readthedocs.io/en/latest/advanced-usage.html#ssl-warnings\n",
            "  InsecureRequestWarning)\n"
          ]
        }
      ]
    },
    {
      "cell_type": "code",
      "source": [
        "#Descompactando o arquivo zip\n",
        "myzip = zipfile.ZipFile(filebytes)\n",
        "myzip.extractall(path_transient + \"ENEM/\")"
      ],
      "metadata": {
        "id": "VV-rnTP-j0Ni"
      },
      "execution_count": null,
      "outputs": []
    },
    {
      "cell_type": "markdown",
      "source": [
        "Realizando a leitura full do arquivo na camada Transient"
      ],
      "metadata": {
        "id": "C64UMU_Vj6my"
      }
    },
    {
      "cell_type": "code",
      "source": [
        "df_enem = spark.read.options(header = 'True', delimiter=';', encoding = 'ISO-8859-1') \\\n",
        "            .csv(path_transient + \"ENEM/DADOS/MICRODADOS_ENEM_2020.csv\")"
      ],
      "metadata": {
        "id": "S9v0E8Sbj5Bs"
      },
      "execution_count": null,
      "outputs": []
    },
    {
      "cell_type": "code",
      "source": [
        "df_enem.show()"
      ],
      "metadata": {
        "id": "zxJPwabIkN2i"
      },
      "execution_count": null,
      "outputs": []
    },
    {
      "cell_type": "markdown",
      "source": [
        "Gravando o dataframe bruto como parquet em camada Raw"
      ],
      "metadata": {
        "id": "0jKwTFMjkVA7"
      }
    },
    {
      "cell_type": "code",
      "source": [
        "\n",
        "df_enem.write.mode('overwrite').parquet(path_raw + \"enem/\")"
      ],
      "metadata": {
        "id": "PhmYsW20kUUy"
      },
      "execution_count": null,
      "outputs": []
    },
    {
      "cell_type": "markdown",
      "source": [
        "Limpando a camada Transient"
      ],
      "metadata": {
        "id": "SFrt56SHkpqS"
      }
    },
    {
      "cell_type": "code",
      "source": [
        "!rm -rf '/content/transient/'"
      ],
      "metadata": {
        "id": "bgl16dTlkpVJ"
      },
      "execution_count": null,
      "outputs": []
    },
    {
      "cell_type": "markdown",
      "source": [
        "Realizando a leitura na camada Raw"
      ],
      "metadata": {
        "id": "30Naj6NGku-R"
      }
    },
    {
      "cell_type": "code",
      "source": [
        "df_enem_raw = spark.read.load(path= path_raw + 'enem/*.parquet', format='parquet')"
      ],
      "metadata": {
        "id": "uKpDDKjOkxIB"
      },
      "execution_count": null,
      "outputs": []
    },
    {
      "cell_type": "code",
      "source": [
        "df_enem_raw.show()"
      ],
      "metadata": {
        "id": "bK-RsquJkzTj"
      },
      "execution_count": null,
      "outputs": []
    },
    {
      "cell_type": "code",
      "source": [
        "df_enem_raw = df_enem_raw.select(\n",
        "              \"NU_INSCRICAO\", \n",
        "              \"TP_SEXO\",\n",
        "              \"TP_COR_RACA\",\n",
        "              \"TP_ESCOLA\",\n",
        "              \"TP_ENSINO\",\n",
        "              \"CO_MUNICIPIO_ESC\",\n",
        "              \"NO_MUNICIPIO_ESC\",\n",
        "              \"CO_UF_ESC\",\n",
        "              \"SG_UF_ESC\",\n",
        "              \"TP_LOCALIZACAO_ESC\",\n",
        "              \"TP_SIT_FUNC_ESC\",\n",
        "              \"NU_NOTA_REDACAO\", \n",
        "              \"NU_NOTA_CN\", \n",
        "              \"NU_NOTA_CH\",\n",
        "              \"NU_NOTA_LC\", \n",
        "              \"NU_NOTA_MT\", \n",
        "              \"TP_PRESENCA_CN\", \n",
        "              \"TP_PRESENCA_CH\", \n",
        "              \"TP_PRESENCA_LC\", \n",
        "              \"TP_PRESENCA_MT\"\n",
        "               \n",
        "\n",
        ") \\"
      ],
      "metadata": {
        "id": "QYC24_nDk5A4"
      },
      "execution_count": null,
      "outputs": []
    },
    {
      "cell_type": "code",
      "source": [
        "df_enem_raw.printSchema()"
      ],
      "metadata": {
        "id": "NQxU7oYik6JZ"
      },
      "execution_count": null,
      "outputs": []
    },
    {
      "cell_type": "markdown",
      "source": [
        "\n",
        "Criando função para exibição de queries em SQL"
      ],
      "metadata": {
        "id": "p2DNP97qlDjh"
      }
    },
    {
      "cell_type": "code",
      "source": [
        "def fn_query(query, numero_linhas):\n",
        "    return spark.sql(query).show(n = numero_linhas, truncate=False)"
      ],
      "metadata": {
        "id": "QHUP_4kBk8oK"
      },
      "execution_count": null,
      "outputs": []
    },
    {
      "cell_type": "markdown",
      "source": [
        "Criando view temporária para realizar os tratamentos de tipagem, criação de colunas, etc"
      ],
      "metadata": {
        "id": "0BQQHNs9lIbD"
      }
    },
    {
      "cell_type": "code",
      "source": [
        "df_enem_raw.createOrReplaceTempView(\"VW_ENEM_RAW\")"
      ],
      "metadata": {
        "id": "sOhA8on2lK4b"
      },
      "execution_count": null,
      "outputs": []
    },
    {
      "cell_type": "code",
      "source": [
        "#Visualizando a query\n",
        "fn_query(\"\"\"\n",
        "\n",
        "    SELECT   \n",
        "\n",
        "    BIGINT(NU_INSCRICAO) AS NU_INSCRICAO, \n",
        "    CASE \n",
        "      WHEN TP_SEXO = 'F' THEN 1\n",
        "      WHEN TP_SEXO = 'M' THEN 2\n",
        "      ELSE -1\n",
        "    END CD_TP_SEXO,\n",
        "    TP_SEXO AS SG_TP_SEXO, \n",
        "    CASE \n",
        "      WHEN TP_SEXO = 'F' THEN 'Feminino'\n",
        "      WHEN TP_SEXO = 'M' THEN 'Masculino'\n",
        "      ELSE 'Não Declarado'\n",
        "    END NM_TP_SEXO,\n",
        "    IFNULL(INT(TP_COR_RACA), -1) AS CD_TP_RACA,\n",
        "    CASE \n",
        "      WHEN TP_COR_RACA = 0 THEN 'Não Declarado'\n",
        "      WHEN TP_COR_RACA = 1 THEN 'Branca'\n",
        "      WHEN TP_COR_RACA = 2 THEN 'Preta'\n",
        "      WHEN TP_COR_RACA = 3 THEN 'Parda'\n",
        "      WHEN TP_COR_RACA = 4 THEN 'Amarela'\n",
        "      WHEN TP_COR_RACA = 5 THEN 'Indígena'\n",
        "    END NM_COR_RACA,\n",
        "    IFNULL(INT(TP_ESCOLA), -1) AS CD_TP_ESCOLA,\n",
        "    CASE\n",
        "      WHEN TP_ESCOLA = 1 THEN 'Não Respondeu'\n",
        "      WHEN TP_ESCOLA = 2 THEN 'Pública'\n",
        "      WHEN TP_ESCOLA = 3 THEN 'Privada'\n",
        "      WHEN TP_ESCOLA = 4 THEN 'Exterior'\n",
        "    END NM_TP_ESCOLA,\n",
        "    IFNULL(INT(TP_ENSINO), -1) AS CD_TP_ENSINO,\n",
        "    CASE \n",
        "      WHEN TP_ENSINO = 1 THEN 'Ensino Regular'\n",
        "      WHEN TP_ENSINO = 2 THEN 'Educação Especial - Modalidade Substitutiva'\n",
        "      WHEN TP_ENSINO = 3 THEN 'Educação de Jovens e Adultos'\n",
        "      ELSE 'Não Respondeu'\n",
        "    END NM_TP_ENSINO, \n",
        "    IFNULL(INT(CO_MUNICIPIO_ESC), -1) AS CD_MUNICIPIO_ESC,\n",
        "    IFNULL(NO_MUNICIPIO_ESC, 'Não Respondeu') AS NM_MUNICIPIO_ESC,\n",
        "    IFNULL(INT(CO_UF_ESC), -1) AS CD_UF_ESC,\n",
        "    IFNULL(SG_UF_ESC, 'Não Respondeu') SG_UF_ESC,\n",
        "    IFNULL(INT(TP_LOCALIZACAO_ESC), -1) AS CD_TP_LOCALIZACAO_ESC,\n",
        "    CASE \n",
        "        WHEN TP_LOCALIZACAO_ESC = 1 THEN 'Urbana'\n",
        "        WHEN TP_LOCALIZACAO_ESC = 2 THEN 'Rural'\n",
        "        ELSE 'Não Respondeu'\n",
        "    END NM_TP_LOCALIZACAO_ESC,\n",
        "    IFNULL(INT(TP_SIT_FUNC_ESC), -1) AS CD_TP_SIT_FUNC_ESC,\n",
        "    CASE \n",
        "         WHEN TP_SIT_FUNC_ESC = 1 THEN 'Em atividade'\n",
        "         WHEN TP_SIT_FUNC_ESC = 2 THEN 'Paralisada'\n",
        "         WHEN TP_SIT_FUNC_ESC = 3 THEN 'Extinta'\n",
        "         WHEN TP_SIT_FUNC_ESC = 4 THEN 'Escola extinta em anos anteriores'\n",
        "        ELSE 'Não Respondeu'\n",
        "    END NM_TP_SIT_FUNC_ESC,\n",
        "    FLOAT(NU_NOTA_REDACAO) NU_NOTA_REDACAO,\n",
        "    FLOAT(NU_NOTA_CN) NU_NOTA_CN,\n",
        "    FLOAT(NU_NOTA_CH) NU_NOTA_CH,\n",
        "    FLOAT(NU_NOTA_LC) NU_NOTA_LC,\n",
        "    FLOAT(NU_NOTA_MT) NU_NOTA_MT,\n",
        "    INT(TP_PRESENCA_CN) AS CD_TP_PRESENCA_CN,\n",
        "    INT(TP_PRESENCA_CH) AS CD_TP_PRESENCA_CH,\n",
        "    INT(TP_PRESENCA_LC) AS CD_TP_PRESENCA_LC,\n",
        "    INT(TP_PRESENCA_MT) AS CD_TP_PRESENCA_MT\n",
        "    \n",
        "\n",
        "     FROM VW_ENEM_RAW \n",
        "\n",
        "\"\"\", 15)"
      ],
      "metadata": {
        "id": "FqER6BtBlOnq"
      },
      "execution_count": null,
      "outputs": []
    },
    {
      "cell_type": "code",
      "source": [
        "#Atribuindo a query em um dataframe \n",
        "df_enem_raw_to_trusted = spark.sql(\"\"\"\n",
        "\n",
        "SELECT   \n",
        "\n",
        "    BIGINT(NU_INSCRICAO) AS NU_INSCRICAO, \n",
        "    CASE \n",
        "      WHEN TP_SEXO = 'F' THEN 1\n",
        "      WHEN TP_SEXO = 'M' THEN 2\n",
        "      ELSE -1\n",
        "    END CD_TP_SEXO,\n",
        "    TP_SEXO AS SG_TP_SEXO, \n",
        "    CASE \n",
        "      WHEN TP_SEXO = 'F' THEN 'Feminino'\n",
        "      WHEN TP_SEXO = 'M' THEN 'Masculino'\n",
        "      ELSE 'Não Declarado'\n",
        "    END NM_TP_SEXO,\n",
        "    IFNULL(INT(TP_COR_RACA), -1) AS CD_TP_RACA,\n",
        "    CASE \n",
        "      WHEN TP_COR_RACA = 0 THEN 'Não Declarado'\n",
        "      WHEN TP_COR_RACA = 1 THEN 'Branca'\n",
        "      WHEN TP_COR_RACA = 2 THEN 'Preta'\n",
        "      WHEN TP_COR_RACA = 3 THEN 'Parda'\n",
        "      WHEN TP_COR_RACA = 4 THEN 'Amarela'\n",
        "      WHEN TP_COR_RACA = 5 THEN 'Indígena'\n",
        "    END NM_COR_RACA,\n",
        "    IFNULL(INT(TP_ESCOLA), -1) AS CD_TP_ESCOLA,\n",
        "    CASE\n",
        "      WHEN TP_ESCOLA = 1 THEN 'Não Respondeu'\n",
        "      WHEN TP_ESCOLA = 2 THEN 'Pública'\n",
        "      WHEN TP_ESCOLA = 3 THEN 'Privada'\n",
        "      WHEN TP_ESCOLA = 4 THEN 'Exterior'\n",
        "    END NM_TP_ESCOLA,\n",
        "    IFNULL(INT(TP_ENSINO), -1) AS CD_TP_ENSINO,\n",
        "    CASE \n",
        "      WHEN TP_ENSINO = 1 THEN 'Ensino Regular'\n",
        "      WHEN TP_ENSINO = 2 THEN 'Educação Especial - Modalidade Substitutiva'\n",
        "      WHEN TP_ENSINO = 3 THEN 'Educação de Jovens e Adultos'\n",
        "      ELSE 'Não Respondeu'\n",
        "    END NM_TP_ENSINO, \n",
        "    IFNULL(INT(CO_MUNICIPIO_ESC), -1) AS CD_MUNICIPIO_ESC,\n",
        "    IFNULL(NO_MUNICIPIO_ESC, 'Não Respondeu') AS NM_MUNICIPIO_ESC,\n",
        "    IFNULL(INT(CO_UF_ESC), -1) AS CD_UF_ESC,\n",
        "    IFNULL(SG_UF_ESC, 'Não Respondeu') SG_UF_ESC,\n",
        "    IFNULL(INT(TP_LOCALIZACAO_ESC), -1) AS CD_TP_LOCALIZACAO_ESC,\n",
        "    CASE \n",
        "        WHEN TP_LOCALIZACAO_ESC = 1 THEN 'Urbana'\n",
        "        WHEN TP_LOCALIZACAO_ESC = 2 THEN 'Rural'\n",
        "        ELSE 'Não Respondeu'\n",
        "    END NM_TP_LOCALIZACAO_ESC,\n",
        "    IFNULL(INT(TP_SIT_FUNC_ESC), -1) AS CD_TP_SIT_FUNC_ESC,\n",
        "    CASE \n",
        "         WHEN TP_SIT_FUNC_ESC = 1 THEN 'Em atividade'\n",
        "         WHEN TP_SIT_FUNC_ESC = 2 THEN 'Paralisada'\n",
        "         WHEN TP_SIT_FUNC_ESC = 3 THEN 'Extinta'\n",
        "         WHEN TP_SIT_FUNC_ESC = 4 THEN 'Escola extinta em anos anteriores'\n",
        "        ELSE 'Não Respondeu'\n",
        "    END NM_TP_SIT_FUNC_ESC,\n",
        "    FLOAT(NU_NOTA_REDACAO) NU_NOTA_REDACAO,\n",
        "    FLOAT(NU_NOTA_CN) NU_NOTA_CN,\n",
        "    FLOAT(NU_NOTA_CH) NU_NOTA_CH,\n",
        "    FLOAT(NU_NOTA_LC) NU_NOTA_LC,\n",
        "    FLOAT(NU_NOTA_MT) NU_NOTA_MT,\n",
        "    INT(TP_PRESENCA_CN) AS CD_TP_PRESENCA_CN,\n",
        "    INT(TP_PRESENCA_CH) AS CD_TP_PRESENCA_CH,\n",
        "    INT(TP_PRESENCA_LC) AS CD_TP_PRESENCA_LC,\n",
        "    INT(TP_PRESENCA_MT) AS CD_TP_PRESENCA_MT\n",
        "    \n",
        "     FROM VW_ENEM_RAW\n",
        "\n",
        " \n",
        "\"\"\")"
      ],
      "metadata": {
        "id": "8qimdMXolXtB"
      },
      "execution_count": null,
      "outputs": []
    },
    {
      "cell_type": "code",
      "source": [
        "df_enem_raw_to_trusted.printSchema()"
      ],
      "metadata": {
        "id": "C4e4pTPjlcNx"
      },
      "execution_count": null,
      "outputs": []
    },
    {
      "cell_type": "markdown",
      "source": [
        "\n",
        "Gravando o dataframe tratado na camada Truste"
      ],
      "metadata": {
        "id": "G2CTaoYQlg6Z"
      }
    },
    {
      "cell_type": "code",
      "source": [
        "df_enem_raw_to_trusted.write.mode('overwrite').parquet(path_trusted + \"enem/\")"
      ],
      "metadata": {
        "id": "YibX87qrlffB"
      },
      "execution_count": null,
      "outputs": []
    },
    {
      "cell_type": "markdown",
      "source": [
        "\n",
        "Realizando leitura na camada Trusted e selecionando apenas as colunas necessárias para modelagem dimensional"
      ],
      "metadata": {
        "id": "T7D1es7dlnba"
      }
    },
    {
      "cell_type": "code",
      "source": [
        "%%html\n",
        "<center><iframe width=\"1000\" height=\"640\" src='https://dbdiagram.io/embed/62db19290d66c746553296b7'> </iframe></center>"
      ],
      "metadata": {
        "id": "w_ZZFv3Ell_q"
      },
      "execution_count": null,
      "outputs": []
    },
    {
      "cell_type": "markdown",
      "source": [
        "FATO_ENEM"
      ],
      "metadata": {
        "id": "en7xjYQzlttK"
      }
    },
    {
      "cell_type": "code",
      "source": [
        "df_fato_enem = spark.read.load(path = path_trusted + 'enem/*.parquet', format='parquet')"
      ],
      "metadata": {
        "id": "DUVajr-IlwGc"
      },
      "execution_count": null,
      "outputs": []
    },
    {
      "cell_type": "code",
      "source": [
        "df_fato_enem.show()"
      ],
      "metadata": {
        "id": "Kw3j5RMplx-b"
      },
      "execution_count": null,
      "outputs": []
    },
    {
      "cell_type": "code",
      "source": [
        "df_fato_enem = df_fato_enem.select(\n",
        "\n",
        "\"CD_TP_SEXO\",\n",
        "\"CD_TP_RACA\",\n",
        "\"CD_TP_ESCOLA\",\n",
        "\"CD_TP_ENSINO\",\n",
        "\"CD_MUNICIPIO_ESC\",\n",
        "\"CD_UF_ESC\",\n",
        "\"CD_TP_LOCALIZACAO_ESC\",\n",
        "\"CD_TP_SIT_FUNC_ESC\",\n",
        "\"NU_INSCRICAO\",\n",
        "\"NU_NOTA_REDACAO\",\n",
        "\"NU_NOTA_CN\",\n",
        "\"NU_NOTA_CH\",\n",
        "\"NU_NOTA_LC\",\n",
        "\"NU_NOTA_MT\",\n",
        "\"CD_TP_PRESENCA_CN\",\n",
        "\"CD_TP_PRESENCA_CH\",\n",
        "\"CD_TP_PRESENCA_LC\",\n",
        "\"CD_TP_PRESENCA_MT\"\n",
        "\n",
        ")"
      ],
      "metadata": {
        "id": "VQJ6A1X0l2V_"
      },
      "execution_count": null,
      "outputs": []
    },
    {
      "cell_type": "code",
      "source": [
        "df_fato_enem.write.mode('overwrite').parquet(path_refined + \"fatos/fato_enem\")"
      ],
      "metadata": {
        "id": "V1BjgxR6l49h"
      },
      "execution_count": null,
      "outputs": []
    },
    {
      "cell_type": "markdown",
      "source": [
        "\n",
        "DM_SEXO"
      ],
      "metadata": {
        "id": "TqPA3U7Pl5-A"
      }
    },
    {
      "cell_type": "code",
      "source": [
        "df_dm_sexo = spark.read.load(path = path_trusted + 'enem/*.parquet', format='parquet')"
      ],
      "metadata": {
        "id": "jVojiNbUl7yh"
      },
      "execution_count": null,
      "outputs": []
    },
    {
      "cell_type": "code",
      "source": [
        "df_dm_sexo = df_dm_sexo.select(\"CD_TP_SEXO\", \"SG_TP_SEXO\", \"NM_TP_SEXO\").distinct()"
      ],
      "metadata": {
        "id": "oJyxDqozl-CB"
      },
      "execution_count": null,
      "outputs": []
    },
    {
      "cell_type": "code",
      "source": [
        "df_dm_sexo.write.mode('overwrite').parquet(path_refined + \"dimensoes/dm_sexo\")"
      ],
      "metadata": {
        "id": "JSes_ov0l_8q"
      },
      "execution_count": null,
      "outputs": []
    },
    {
      "cell_type": "markdown",
      "source": [
        "DM_ETNIA"
      ],
      "metadata": {
        "id": "x1o6YoswmDc7"
      }
    },
    {
      "cell_type": "code",
      "source": [
        "df_dm_etnia = spark.read.load(path = path_trusted + 'enem/*.parquet', format='parquet')"
      ],
      "metadata": {
        "id": "GpvAxodrmC88"
      },
      "execution_count": null,
      "outputs": []
    },
    {
      "cell_type": "code",
      "source": [
        "df_dm_etnia = df_dm_etnia.select(\"CD_TP_RACA\", \"NM_COR_RACA\").distinc"
      ],
      "metadata": {
        "id": "gc-7-bAYmIxJ"
      },
      "execution_count": null,
      "outputs": []
    },
    {
      "cell_type": "code",
      "source": [
        "df_dm_etnia.write.mode('overwrite').parquet(path_refined + \"dimensoes/dm_etnia\")"
      ],
      "metadata": {
        "id": "pgUB3fGtmK2b"
      },
      "execution_count": null,
      "outputs": []
    },
    {
      "cell_type": "markdown",
      "source": [
        "DM_TP_ESCOLA"
      ],
      "metadata": {
        "id": "l9s5cZcMmOGh"
      }
    },
    {
      "cell_type": "code",
      "source": [
        "df_dm_tp_escola = spark.read.load(path = path_trusted + 'enem/*.parquet', format='parquet')"
      ],
      "metadata": {
        "id": "Bj6FivHwmNt5"
      },
      "execution_count": null,
      "outputs": []
    },
    {
      "cell_type": "code",
      "source": [
        "df_dm_tp_escola = df_dm_tp_escola.select(\"CD_TP_ESCOLA\",\"NM_TP_ESCOLA\").distinct()"
      ],
      "metadata": {
        "id": "jFSAhmcxmUy5"
      },
      "execution_count": null,
      "outputs": []
    },
    {
      "cell_type": "code",
      "source": [
        "df_dm_tp_escola.write.mode('overwrite').parquet(path_refined + \"dimensoes/dm_tp_escola\")"
      ],
      "metadata": {
        "id": "qDVVi6oAmWki"
      },
      "execution_count": null,
      "outputs": []
    },
    {
      "cell_type": "markdown",
      "source": [
        "DM_TP_ENSINO"
      ],
      "metadata": {
        "id": "9XK0J9tEmZ46"
      }
    },
    {
      "cell_type": "code",
      "source": [
        "df_dm_tp_ensino = spark.read.load(path = path_trusted + 'enem/*.parquet', format='parquet')"
      ],
      "metadata": {
        "id": "OqNEZlAOmlAZ"
      },
      "execution_count": null,
      "outputs": []
    },
    {
      "cell_type": "code",
      "source": [
        "df_dm_tp_ensino = df_dm_tp_ensino.select(\"CD_TP_ENSINO\", \"NM_TP_ENSINO\").distinct()"
      ],
      "metadata": {
        "id": "kg2TfQ8cmnhy"
      },
      "execution_count": null,
      "outputs": []
    },
    {
      "cell_type": "code",
      "source": [
        "df_dm_tp_ensino.write.mode('overwrite').parquet(path_refined + \"dimensoes/dm_tp_ensino\")"
      ],
      "metadata": {
        "id": "Rv-kId0KmqWZ"
      },
      "execution_count": null,
      "outputs": []
    },
    {
      "cell_type": "markdown",
      "source": [
        "DM_UF_ESC"
      ],
      "metadata": {
        "id": "WSedBXmkmt4o"
      }
    },
    {
      "cell_type": "code",
      "source": [
        "df_dm_tp_escola = spark.read.load(path = path_trusted + 'enem/*.parquet', format='parquet')"
      ],
      "metadata": {
        "id": "8wafLqiRmsPa"
      },
      "execution_count": null,
      "outputs": []
    },
    {
      "cell_type": "code",
      "source": [
        "df_dm_uf_escola = df_dm_uf_escola.select(\"CD_UF_ESC\", \"NM_MUNICIPIO_ESC\").distinct()"
      ],
      "metadata": {
        "id": "vlJvlVLenEiJ"
      },
      "execution_count": null,
      "outputs": []
    },
    {
      "cell_type": "code",
      "source": [
        "df_dm_municipio_esc.write.mode('overwrite').parquet(path_refined + 'dimensoes/dm_uf')"
      ],
      "metadata": {
        "id": "q9HOVHA_nl9Z"
      },
      "execution_count": null,
      "outputs": []
    },
    {
      "cell_type": "markdown",
      "source": [
        "DM_MUNICIPIO_ESC"
      ],
      "metadata": {
        "id": "12tzkrbln9Q0"
      }
    },
    {
      "cell_type": "code",
      "source": [
        "df_dm_municipio_esc = spark.read.load(path = path_trusted + 'enem/*.parquet', format='parquet')"
      ],
      "metadata": {
        "id": "U5f-WYFioA-4"
      },
      "execution_count": null,
      "outputs": []
    },
    {
      "cell_type": "code",
      "source": [
        "df_dm_municipio_esc = df_dm_municipio_esc.select('CD_MUNICIPIO_ESC', 'NM_MUNICIPIO_ESC').distinct()"
      ],
      "metadata": {
        "id": "z0E3wi0Zoej8"
      },
      "execution_count": null,
      "outputs": []
    },
    {
      "cell_type": "code",
      "source": [
        "df_dm_municipio_esc.write.mode('overwrite').parquet(path_refined + 'dimensoes/dm_municipio')"
      ],
      "metadata": {
        "id": "sA8K9uNcowK5"
      },
      "execution_count": null,
      "outputs": []
    },
    {
      "cell_type": "markdown",
      "source": [
        "DM_LOCALIZACAO_ESC"
      ],
      "metadata": {
        "id": "6Zn2zZ_opov_"
      }
    },
    {
      "cell_type": "code",
      "source": [
        "df_dm_localizacao_esc = spark.read.load(path = path_trusted + 'enem/*.parquet', format = 'parquet')"
      ],
      "metadata": {
        "id": "qSh3yPKDpyKu"
      },
      "execution_count": null,
      "outputs": []
    },
    {
      "cell_type": "code",
      "source": [
        "df_dm_localizacao_esc = df_dm_municipio_esc.select('CD_TP_LOCALIZACAO_ESC', 'NM_TP_LOCALIZACAO_ESC').distinct()"
      ],
      "metadata": {
        "id": "HMiUKPzMqHoS"
      },
      "execution_count": null,
      "outputs": []
    },
    {
      "cell_type": "code",
      "source": [
        "df_dm_localizacao_esc.write.mode('overwrite').parquet(path_refined + 'dimensones/dm_localizacao_esc')"
      ],
      "metadata": {
        "id": "vh-PCjI3qj_B"
      },
      "execution_count": null,
      "outputs": []
    },
    {
      "cell_type": "markdown",
      "source": [
        "DM_SITUACAO_ESCOLA"
      ],
      "metadata": {
        "id": "LhyUuRJXq8e3"
      }
    },
    {
      "cell_type": "code",
      "source": [
        "df_dm_situacao_escola = spark.read.load(path = path_trusted + 'enem/*.parquet', format='parquet')"
      ],
      "metadata": {
        "id": "EafuQ0-pq-2x"
      },
      "execution_count": null,
      "outputs": []
    },
    {
      "cell_type": "code",
      "source": [
        "df_dm_situacao_escola = df_dm_situacao_escola.select(\"CD_TP_SIT_FUNC_ESC\", \"NM_TP_SIT_FUNC_ESC\").distinct()"
      ],
      "metadata": {
        "id": "_g4os-PzrA6R"
      },
      "execution_count": null,
      "outputs": []
    },
    {
      "cell_type": "code",
      "source": [
        "df_dm_situacao_escola.write.mode('overwrite').parquet(path_refined + \"dimensoes/dm_situacao_esc\")"
      ],
      "metadata": {
        "id": "l-Y06QrDrCpo"
      },
      "execution_count": null,
      "outputs": []
    },
    {
      "cell_type": "markdown",
      "source": [
        "DM_TP_PRESENCA"
      ],
      "metadata": {
        "id": "KW-ageocrHcX"
      }
    },
    {
      "cell_type": "code",
      "source": [
        "df_dm_tp_presenca = spark.sql(\"\"\"\n",
        "\n",
        "SELECT \n",
        "      0 AS CD_TP_PRESENCA, \n",
        "      'Faltou à prova' AS NM_TP_PRESENCA\n",
        "UNION\n",
        "\n",
        "SELECT \n",
        "      1 AS CD_TP_PRESENCA, \n",
        "      'Presente na prova' AS NM_TP_PRESENCA\n",
        "\n",
        "UNION\n",
        "\n",
        "SELECT \n",
        "      2 AS CD_TP_PRESENCA, \n",
        "      'Eliminado na prova' AS NM_TP_PRESENCA\n",
        "\n",
        "\"\"\")"
      ],
      "metadata": {
        "id": "zWmp3FnnrFIg"
      },
      "execution_count": null,
      "outputs": []
    },
    {
      "cell_type": "code",
      "source": [
        "df_dm_tp_presenca.show()"
      ],
      "metadata": {
        "id": "zNNmVrS4rNHy"
      },
      "execution_count": null,
      "outputs": []
    },
    {
      "cell_type": "code",
      "source": [
        "df_dm_tp_presenca.write.mode('overwrite').parquet(path_refined + \"dimensoes/dm_tp_presenca\")"
      ],
      "metadata": {
        "id": "GkOaN7pZrPGA"
      },
      "execution_count": null,
      "outputs": []
    },
    {
      "cell_type": "markdown",
      "source": [
        "\n",
        "Leitura na camada Refined"
      ],
      "metadata": {
        "id": "WXNh6r-LrkiQ"
      }
    },
    {
      "cell_type": "code",
      "source": [
        "df_dm_etnia = spark.read.load(path= path_refined + 'dimensoes/dm_etnia/*.parquet', format='parquet')\n",
        "df_dm_localizacao_esc = spark.read.load(path= path_refined + 'dimensoes/dm_localizacao_esc/*.parquet', format='parquet')\n",
        "df_dm_municipio = spark.read.load(path= path_refined + 'dimensoes/dm_municipio/*.parquet', format='parquet')\n",
        "df_dm_sexo = spark.read.load(path= path_refined + 'dimensoes/dm_sexo/*.parquet', format='parquet')\n",
        "df_dm_situacao_esc = spark.read.load(path= path_refined + 'dimensoes/dm_situacao_esc/*.parquet', format='parquet')\n",
        "df_dm_tp_ensino = spark.read.load(path= path_refined + 'dimensoes/dm_tp_ensino/*.parquet', format='parquet')\n",
        "df_dm_tp_escola = spark.read.load(path= path_refined + 'dimensoes/dm_tp_escola/*.parquet', format='parquet')\n",
        "df_dm_tp_presenca = spark.read.load(path= path_refined + 'dimensoes/dm_tp_presenca/*.parquet', format='parquet')\n",
        "df_dm_uf = spark.read.load(path= path_refined + 'dimensoes/dm_uf/*.parquet', format='parquet')\n",
        "df_fato_enem = spark.read.load(path= path_refined + 'fatos/fato_enem/*.parquet', format='parquet')"
      ],
      "metadata": {
        "id": "M_Bj1RJfrmjZ"
      },
      "execution_count": null,
      "outputs": []
    },
    {
      "cell_type": "code",
      "source": [
        "df_dm_etnia.createOrReplaceTempView(\"VW_DM_ETNIA\")\n",
        "df_dm_localizacao_esc.createOrReplaceTempView(\"VW_DM_LOCALIZACAO_ESC\")\n",
        "df_dm_municipio.createOrReplaceTempView(\"VW_DM_MUNICIPIO\")\n",
        "df_dm_sexo.createOrReplaceTempView(\"VW_DM_SEXO\")\n",
        "df_dm_situacao_esc.createOrReplaceTempView(\"VW_DM_SITUACAO_ESC\")\n",
        "df_dm_tp_ensino.createOrReplaceTempView(\"VW_DM_TP_ENSINO\")\n",
        "df_dm_tp_escola.createOrReplaceTempView(\"VW_DM_TP_ESCOLA\")\n",
        "df_dm_tp_presenca.createOrReplaceTempView(\"VW_DM_TP_PRESENCA\")\n",
        "df_dm_uf.createOrReplaceTempView(\"VW_DM_UF\")\n",
        "df_fato_enem.createOrReplaceTempView(\"VW_FATO_ENEM\")"
      ],
      "metadata": {
        "id": "ZUKtkYgQrpSP"
      },
      "execution_count": null,
      "outputs": []
    },
    {
      "cell_type": "code",
      "source": [
        "#Média de notas\n",
        "fn_query(\"\"\"\n",
        "\n",
        "\n",
        "SELECT \n",
        "\n",
        "TPE.NM_TP_ESCOLA,\n",
        "TPENS.NM_TP_ENSINO,\n",
        "UFES.SG_UF_ESC,\n",
        "SITES.NM_TP_SIT_FUNC_ESC,      \n",
        "AVG( F.NU_NOTA_REDACAO + F.NU_NOTA_CN + F.NU_NOTA_CH + F.NU_NOTA_LC + F.NU_NOTA_MT ) / 5 MEDIA\n",
        "\n",
        " FROM VW_FATO_ENEM F \n",
        "\n",
        "  INNER JOIN VW_DM_TP_ESCOLA TPE\n",
        "    ON F.CD_TP_ESCOLA = TPE.CD_TP_ESCOLA\n",
        "\n",
        "  INNER JOIN VW_DM_TP_ENSINO TPENS\n",
        "    ON F.CD_TP_ENSINO = TPENS.CD_TP_ENSINO\n",
        "\n",
        "  INNER JOIN VW_DM_UF UFES\n",
        "    ON F.CD_UF_ESC = UFES.CD_UF_ESC\n",
        "\n",
        "  INNER JOIN VW_DM_SITUACAO_ESC SITES\n",
        "    ON F.CD_TP_SIT_FUNC_ESC = SITES.CD_TP_SIT_FUNC_ESC\n",
        "\n",
        "\n",
        "  GROUP BY \n",
        "\n",
        "      TPE.NM_TP_ESCOLA,\n",
        "      TPENS.NM_TP_ENSINO,\n",
        "      UFES.SG_UF_ESC,\n",
        "      SITES.NM_TP_SIT_FUNC_ESC\n",
        "\n",
        "  ORDER BY MEDIA DESC\n",
        "\n",
        "\n",
        "\"\"\", 1)"
      ],
      "metadata": {
        "id": "zAKClC9cr0Si"
      },
      "execution_count": null,
      "outputs": []
    },
    {
      "cell_type": "code",
      "source": [
        "#Aluno com maior nota dessa média\n",
        "fn_query(\"\"\"\n",
        "\n",
        "\n",
        "SELECT \n",
        "\n",
        "F.NU_INSCRICAO, \n",
        "S.NM_TP_SEXO,\n",
        "AVG( F.NU_NOTA_REDACAO + F.NU_NOTA_CN + F.NU_NOTA_CH + F.NU_NOTA_LC + F.NU_NOTA_MT ) / 5 MEDIA\n",
        "\n",
        "FROM VW_FATO_ENEM F\n",
        "\n",
        "INNER JOIN VW_DM_SEXO S\n",
        "  ON F.CD_TP_SEXO = S.CD_TP_SEXO\n",
        "\n",
        "GROUP BY NU_INSCRICAO, S.NM_TP_SEXO\n",
        "\n",
        "ORDER BY MEDIA DESC\n",
        "\n",
        "\n",
        "\"\"\", 1)"
      ],
      "metadata": {
        "id": "cnENcWk8r7cH"
      },
      "execution_count": null,
      "outputs": []
    },
    {
      "cell_type": "code",
      "source": [
        "#Média Geral\n",
        "fn_query(\"\"\"\n",
        "\n",
        "\n",
        "SELECT \n",
        "\n",
        "AVG( F.NU_NOTA_REDACAO + F.NU_NOTA_CN + F.NU_NOTA_CH + F.NU_NOTA_LC + F.NU_NOTA_MT ) / 5 MEDIA\n",
        "\n",
        " FROM VW_FATO_ENEM F\n",
        "\n",
        "\n",
        "\"\"\", 1)"
      ],
      "metadata": {
        "id": "Je4cxYVzsDsI"
      },
      "execution_count": null,
      "outputs": []
    },
    {
      "cell_type": "code",
      "source": [
        "#Porcentagem de faltantes\n",
        "fn_query(\"\"\"\n",
        "\n",
        "\n",
        "SELECT \n",
        "\n",
        "COUNT(F.NU_INSCRICAO) TOTAL_ALUNOS,\n",
        "\n",
        "COUNT(\n",
        "  CASE \n",
        "    WHEN CN.CD_TP_PRESENCA = 0 THEN 1\n",
        "    WHEN CH.CD_TP_PRESENCA = 0 THEN 1\n",
        "    WHEN LC.CD_TP_PRESENCA = 0 THEN 1\n",
        "    WHEN MT.CD_TP_PRESENCA = 0 THEN 1\n",
        "  END) TOTAL_AUSENTES_EM_UMA_DAS_PROVAS,\n",
        "\n",
        "COUNT(\n",
        "  CASE \n",
        "    WHEN CN.CD_TP_PRESENCA = 0 THEN 1\n",
        "    WHEN CH.CD_TP_PRESENCA = 0 THEN 1\n",
        "    WHEN LC.CD_TP_PRESENCA = 0 THEN 1\n",
        "    WHEN MT.CD_TP_PRESENCA = 0 THEN 1\n",
        "  END) / COUNT(F.NU_INSCRICAO) * 100 PERCENTUAL_AUSENTES_EM_UMA_DAS_PROVAS,\n",
        "COUNT(\n",
        "  CASE \n",
        "    WHEN 1=1\n",
        "      AND  CN.CD_TP_PRESENCA = 0  \n",
        "      AND  CH.CD_TP_PRESENCA = 0  \n",
        "      AND  LC.CD_TP_PRESENCA = 0  \n",
        "      AND  MT.CD_TP_PRESENCA = 0 \n",
        "    THEN  1 \n",
        "  END) TOTAL_AUSENTES_EM_TODAS_AS_PROVAS,\n",
        "COUNT(\n",
        "  CASE \n",
        "    WHEN 1=1\n",
        "      AND  CN.CD_TP_PRESENCA = 0  \n",
        "      AND  CH.CD_TP_PRESENCA = 0  \n",
        "      AND  LC.CD_TP_PRESENCA = 0  \n",
        "      AND  MT.CD_TP_PRESENCA = 0 \n",
        "    THEN  1 \n",
        "  END) / COUNT(F.NU_INSCRICAO) * 100 PERCENTUAL_AUSENTES_TODAS_AS_PROVAS\n",
        "\n",
        " FROM VW_FATO_ENEM F \n",
        "\n",
        " INNER JOIN VW_DM_TP_PRESENCA CN\n",
        "  ON F.CD_TP_PRESENCA_CN = CN.CD_TP_PRESENCA\n",
        "\n",
        " INNER JOIN VW_DM_TP_PRESENCA CH \n",
        "  ON F.CD_TP_PRESENCA_CH = CH.CD_TP_PRESENCA\n",
        "\n",
        " INNER JOIN VW_DM_TP_PRESENCA LC\n",
        "  ON F.CD_TP_PRESENCA_LC = LC.CD_TP_PRESENCA\n",
        "\n",
        " INNER JOIN VW_DM_TP_PRESENCA MT \n",
        "  ON F.CD_TP_PRESENCA_MT = MT.CD_TP_PRESENCA\n",
        "\n",
        "\"\"\", 1)"
      ],
      "metadata": {
        "id": "7sbnOlaHsHcW"
      },
      "execution_count": null,
      "outputs": []
    },
    {
      "cell_type": "code",
      "source": [
        "#Total Inscrições\n",
        "fn_query(\"\"\"\n",
        "\n",
        "SELECT COUNT(NU_INSCRICAO) AS TOTAL_INSCRITOS FROM VW_FATO_ENEM\n",
        "\n",
        "\"\"\", 1)"
      ],
      "metadata": {
        "id": "KDdXlJu0sTDg"
      },
      "execution_count": null,
      "outputs": []
    },
    {
      "cell_type": "code",
      "source": [
        "#Média por disciplina\n",
        "fn_query(\"\"\"\n",
        "\n",
        "\n",
        "SELECT \n",
        "\n",
        "AVG(NU_NOTA_REDACAO) MEDIA_REDACAO,\n",
        "AVG(NU_NOTA_CN) MEDIA_CIENCIAS_NATUREZA,\n",
        "AVG(NU_NOTA_CH) MEDIA_CIENCIAS_HUMANAS,\n",
        "AVG(NU_NOTA_LC) MEDIA_LINGUAGENS_CODIGOS,\n",
        "AVG(NU_NOTA_MT) MEDIA_MATEMATICA\n",
        "\n",
        "\n",
        "FROM VW_FATO_ENEM F\n",
        "\n",
        "\n",
        "\"\"\", 1)"
      ],
      "metadata": {
        "id": "S8B1ZTgfsWP7"
      },
      "execution_count": null,
      "outputs": []
    },
    {
      "cell_type": "code",
      "source": [
        "#Média por sexo \n",
        "fn_query(\"\"\"\n",
        "\n",
        "SELECT \n",
        "\n",
        "SX.NM_TP_SEXO SEXO,\n",
        "AVG( F.NU_NOTA_REDACAO + F.NU_NOTA_CN + F.NU_NOTA_CH + F.NU_NOTA_LC + F.NU_NOTA_MT ) / 5 MEDIA\n",
        "\n",
        "FROM VW_FATO_ENEM F\n",
        "\n",
        "INNER JOIN VW_DM_SEXO SX\n",
        "  ON F.CD_TP_SEXO = SX.CD_TP_SEXO\n",
        "\n",
        "GROUP BY SX.NM_TP_SEXO\n",
        "\n",
        "ORDER BY MEDIA DESC\n",
        "\n",
        "\"\"\", 2)"
      ],
      "metadata": {
        "id": "7T1nLMB2sfNo"
      },
      "execution_count": null,
      "outputs": []
    },
    {
      "cell_type": "code",
      "source": [
        "#Média por etnia\n",
        "fn_query(\"\"\"\n",
        "\n",
        "SELECT \n",
        "\n",
        "ETN.NM_COR_RACA ETNIA,\n",
        "AVG( F.NU_NOTA_REDACAO + F.NU_NOTA_CN + F.NU_NOTA_CH + F.NU_NOTA_LC + F.NU_NOTA_MT ) / 5 MEDIA\n",
        "\n",
        "FROM VW_FATO_ENEM F\n",
        "\n",
        "INNER JOIN VW_DM_ETNIA ETN\n",
        "  ON F.CD_TP_RACA = ETN.CD_TP_RACA\n",
        "\n",
        "GROUP BY \n",
        "  ETN.NM_COR_RACA \n",
        "\n",
        "ORDER BY MEDIA DESC\n",
        "\n",
        "\n",
        "\"\"\", 10)"
      ],
      "metadata": {
        "id": "ZvX_Bo9Csjsu"
      },
      "execution_count": null,
      "outputs": []
    },
    {
      "cell_type": "code",
      "source": [
        "#tempo de execução do processo \n",
        "finished = datetime.now()\n",
        "print(finished-started)"
      ],
      "metadata": {
        "id": "hsgix1RksoqO"
      },
      "execution_count": null,
      "outputs": []
    }
  ]
}